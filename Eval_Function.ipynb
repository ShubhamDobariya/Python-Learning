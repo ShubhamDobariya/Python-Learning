{
 "cells": [
  {
   "cell_type": "markdown",
   "id": "68fda063-8320-449b-bb06-420f67f1795d",
   "metadata": {},
   "source": [
    "## Eval Function In Python --Evaluating Expressions Dynamically"
   ]
  },
  {
   "cell_type": "code",
   "execution_count": 2,
   "id": "35145f91-3ffd-4560-a0e8-8ab632dd575d",
   "metadata": {},
   "outputs": [
    {
     "data": {
      "text/plain": [
       "25"
      ]
     },
     "execution_count": 2,
     "metadata": {},
     "output_type": "execute_result"
    }
   ],
   "source": [
    "## Eval Function evaluate python expression which are wrritten as strings \n",
    "\n",
    "eval(\"5*5\")"
   ]
  },
  {
   "cell_type": "markdown",
   "id": "3e733ee5-f87e-42e0-9558-9fd9d09758a0",
   "metadata": {},
   "source": [
    "## How does Eval work\n",
    "1. Parse python expression\n",
    "2. Compile into a byte code\n",
    "3. Evaluate the python expression\n",
    "4. It will return the result\n",
    "\n",
    " "
   ]
  },
  {
   "cell_type": "code",
   "execution_count": 3,
   "id": "1fbe2dcd-51fe-48f9-b24d-32e6478f3780",
   "metadata": {},
   "outputs": [],
   "source": [
    "var = compile(\"5*5\", \"<string>\", \"eval\")"
   ]
  },
  {
   "cell_type": "code",
   "execution_count": 4,
   "id": "99d34c7e-50d9-4019-823e-a7199f9bcc8e",
   "metadata": {},
   "outputs": [
    {
     "data": {
      "text/plain": [
       "<code object <module> at 0x000002C71839C780, file \"<string>\", line 1>"
      ]
     },
     "execution_count": 4,
     "metadata": {},
     "output_type": "execute_result"
    }
   ],
   "source": [
    "var"
   ]
  },
  {
   "cell_type": "code",
   "execution_count": 5,
   "id": "6a3b36fc-4b97-47af-af34-46b83e27b38b",
   "metadata": {},
   "outputs": [
    {
     "data": {
      "text/plain": [
       "25"
      ]
     },
     "execution_count": 5,
     "metadata": {},
     "output_type": "execute_result"
    }
   ],
   "source": [
    "eval(var)"
   ]
  },
  {
   "cell_type": "code",
   "execution_count": 10,
   "id": "4a9b3951-193f-4100-ae7f-b874ed673dbc",
   "metadata": {},
   "outputs": [
    {
     "data": {
      "text/plain": [
       "160"
      ]
     },
     "execution_count": 10,
     "metadata": {},
     "output_type": "execute_result"
    }
   ],
   "source": [
    "## Globals\n",
    "eval(\"X+50+X**2\",{\"X\":10})"
   ]
  },
  {
   "cell_type": "code",
   "execution_count": 11,
   "id": "fb3c080b-66b2-410f-93cf-ed9456bbf2cb",
   "metadata": {},
   "outputs": [
    {
     "data": {
      "text/plain": [
       "2600"
      ]
     },
     "execution_count": 11,
     "metadata": {},
     "output_type": "execute_result"
    }
   ],
   "source": [
    "## Globals\n",
    "x = 50\n",
    "eval(\"X+50+X**2\",{\"X\":x})"
   ]
  },
  {
   "cell_type": "code",
   "execution_count": 12,
   "id": "08f78cd6-4da6-4129-9c01-4cc63c6b1029",
   "metadata": {},
   "outputs": [
    {
     "data": {
      "text/plain": [
       "10100"
      ]
     },
     "execution_count": 12,
     "metadata": {},
     "output_type": "execute_result"
    }
   ],
   "source": [
    "x=100\n",
    "y=200\n",
    "eval(\"X+Y*50\", {\"X\":x, \"Y\":y})"
   ]
  },
  {
   "cell_type": "code",
   "execution_count": 13,
   "id": "a3d549e6-bedb-44bf-8d0b-1cce9ff66950",
   "metadata": {},
   "outputs": [
    {
     "data": {
      "text/plain": [
       "100.0"
      ]
     },
     "execution_count": 13,
     "metadata": {},
     "output_type": "execute_result"
    }
   ],
   "source": [
    "a=100\n",
    "b=100\n",
    "eval(\"(a+b)/2\")"
   ]
  },
  {
   "cell_type": "code",
   "execution_count": null,
   "id": "48f3597c-9424-49f4-9569-f548326debfb",
   "metadata": {},
   "outputs": [],
   "source": []
  }
 ],
 "metadata": {
  "kernelspec": {
   "display_name": "Python 3 (ipykernel)",
   "language": "python",
   "name": "python3"
  },
  "language_info": {
   "codemirror_mode": {
    "name": "ipython",
    "version": 3
   },
   "file_extension": ".py",
   "mimetype": "text/x-python",
   "name": "python",
   "nbconvert_exporter": "python",
   "pygments_lexer": "ipython3",
   "version": "3.12.7"
  }
 },
 "nbformat": 4,
 "nbformat_minor": 5
}
