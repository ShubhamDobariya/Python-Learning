{
 "cells": [
  {
   "cell_type": "markdown",
   "id": "1139d5c3-9c95-4860-a685-56d9748c1ff7",
   "metadata": {},
   "source": [
    "## Function in python"
   ]
  },
  {
   "cell_type": "code",
   "execution_count": 148,
   "id": "98d60031-7bbb-455a-8be7-8bbb49d22226",
   "metadata": {},
   "outputs": [],
   "source": [
    "def even_odd(num):\n",
    "    if num%2 == 0:\n",
    "        print(\"The Number is Even\")\n",
    "    else:\n",
    "        print(\"The Number is Odd\")"
   ]
  },
  {
   "cell_type": "code",
   "execution_count": 149,
   "id": "a5cf2c2a-1248-4c09-9d2a-8a784695f7a4",
   "metadata": {},
   "outputs": [
    {
     "name": "stdout",
     "output_type": "stream",
     "text": [
      "The Number is Even\n"
     ]
    }
   ],
   "source": [
    "even_odd(24)"
   ]
  },
  {
   "cell_type": "code",
   "execution_count": 150,
   "id": "db6ca3d7-91cb-4b6d-a2fd-0a1026004d87",
   "metadata": {},
   "outputs": [
    {
     "name": "stdout",
     "output_type": "stream",
     "text": [
      "The Number is Odd\n"
     ]
    }
   ],
   "source": [
    "even_odd(5)"
   ]
  },
  {
   "cell_type": "code",
   "execution_count": 151,
   "id": "0adc7963-773a-4687-a31b-a3894c6dfe9b",
   "metadata": {},
   "outputs": [],
   "source": [
    "## print vs return \n",
    "\n",
    "def greet():\n",
    "    return \"Hello World!\""
   ]
  },
  {
   "cell_type": "code",
   "execution_count": 152,
   "id": "f2fe9ef4-2331-40b0-ad4c-005d882df1e9",
   "metadata": {},
   "outputs": [
    {
     "data": {
      "text/plain": [
       "'Hello World!'"
      ]
     },
     "execution_count": 152,
     "metadata": {},
     "output_type": "execute_result"
    }
   ],
   "source": [
    "greet()"
   ]
  },
  {
   "cell_type": "code",
   "execution_count": 153,
   "id": "28815124-0d41-4fbb-8ed6-53991c4cb6e4",
   "metadata": {},
   "outputs": [],
   "source": [
    "res = greet()"
   ]
  },
  {
   "cell_type": "code",
   "execution_count": 154,
   "id": "c35c28d4-8d62-4ff6-ac64-3514006894fc",
   "metadata": {},
   "outputs": [
    {
     "data": {
      "text/plain": [
       "'Hello World!'"
      ]
     },
     "execution_count": 154,
     "metadata": {},
     "output_type": "execute_result"
    }
   ],
   "source": [
    "res"
   ]
  },
  {
   "cell_type": "code",
   "execution_count": null,
   "id": "110e7ffe-dc9e-4049-ae2e-6d0bf49006e0",
   "metadata": {},
   "outputs": [],
   "source": []
  },
  {
   "cell_type": "code",
   "execution_count": 155,
   "id": "d0a9e227-a507-4eab-b7fe-1a50d114b738",
   "metadata": {},
   "outputs": [],
   "source": [
    "def hello():\n",
    "    print(\"Hello World!\")"
   ]
  },
  {
   "cell_type": "code",
   "execution_count": 156,
   "id": "4f634d34-dae3-46b4-8a46-b221a26d8cb4",
   "metadata": {},
   "outputs": [
    {
     "name": "stdout",
     "output_type": "stream",
     "text": [
      "Hello World!\n"
     ]
    }
   ],
   "source": [
    "hello()"
   ]
  },
  {
   "cell_type": "code",
   "execution_count": 157,
   "id": "79e3fa86-7ce8-462d-b6cf-11cbc8a1e618",
   "metadata": {},
   "outputs": [
    {
     "name": "stdout",
     "output_type": "stream",
     "text": [
      "Hello World!\n"
     ]
    }
   ],
   "source": [
    "res = hello()"
   ]
  },
  {
   "cell_type": "code",
   "execution_count": 158,
   "id": "59612a83-5974-4ba3-afb2-47b0f7b5c0f8",
   "metadata": {},
   "outputs": [
    {
     "name": "stdout",
     "output_type": "stream",
     "text": [
      "None\n"
     ]
    }
   ],
   "source": [
    "print(res)"
   ]
  },
  {
   "cell_type": "code",
   "execution_count": null,
   "id": "d776adc4-ff61-4ae0-865a-f3e0e7cf69a9",
   "metadata": {},
   "outputs": [],
   "source": []
  },
  {
   "cell_type": "code",
   "execution_count": 159,
   "id": "d2fd9847-14fd-4901-a8ea-23c03320d600",
   "metadata": {},
   "outputs": [],
   "source": [
    "def add_number(num1, num2):\n",
    "    return num1 + num2"
   ]
  },
  {
   "cell_type": "code",
   "execution_count": 160,
   "id": "acc3f8f4-b02e-4d92-898d-ee5348816c3b",
   "metadata": {},
   "outputs": [
    {
     "data": {
      "text/plain": [
       "90"
      ]
     },
     "execution_count": 160,
     "metadata": {},
     "output_type": "execute_result"
    }
   ],
   "source": [
    "add_number(50,40)"
   ]
  },
  {
   "cell_type": "code",
   "execution_count": 161,
   "id": "7b50bd48-1952-429c-81a1-9452ca686279",
   "metadata": {},
   "outputs": [],
   "source": [
    "res = add_number(30,20)"
   ]
  },
  {
   "cell_type": "code",
   "execution_count": 162,
   "id": "1da108f5-aacd-40db-831e-fb53ffa4c1cc",
   "metadata": {},
   "outputs": [
    {
     "name": "stdout",
     "output_type": "stream",
     "text": [
      "50\n"
     ]
    }
   ],
   "source": [
    "print(res)"
   ]
  },
  {
   "cell_type": "code",
   "execution_count": null,
   "id": "0a77ccd7-2b97-4b8e-8c05-62eb686cf76f",
   "metadata": {},
   "outputs": [],
   "source": []
  },
  {
   "cell_type": "code",
   "execution_count": 163,
   "id": "92944050-4a4f-45c1-a386-6dd0a75c7f81",
   "metadata": {},
   "outputs": [],
   "source": [
    "## positional agrument\n",
    "## keyword argument\n",
    "\n",
    "def hello(name,age=20):\n",
    "    print(\"My name is {} and my age is {} \".format(name,age))"
   ]
  },
  {
   "cell_type": "code",
   "execution_count": 164,
   "id": "d3ab653f-b48d-40f1-a7f9-4073504953ae",
   "metadata": {},
   "outputs": [
    {
     "name": "stdout",
     "output_type": "stream",
     "text": [
      "My name is shubham and my age is 20 \n"
     ]
    }
   ],
   "source": [
    "hello(\"shubham\")"
   ]
  },
  {
   "cell_type": "code",
   "execution_count": null,
   "id": "3ddcacd4-6c1b-4658-aa7c-88cb50e0044f",
   "metadata": {},
   "outputs": [],
   "source": []
  },
  {
   "cell_type": "code",
   "execution_count": 165,
   "id": "082ee24e-49a1-41c2-84d9-b81c11220c18",
   "metadata": {},
   "outputs": [],
   "source": [
    "def hello(*args, **kwargs):\n",
    "    print(args)\n",
    "    print(kwargs)"
   ]
  },
  {
   "cell_type": "code",
   "execution_count": 166,
   "id": "1e7f02e3-ff3f-4c2d-9e61-81c3c3dae8e2",
   "metadata": {},
   "outputs": [
    {
     "name": "stdout",
     "output_type": "stream",
     "text": [
      "('shubham', 'AIML')\n",
      "{'age': 20}\n"
     ]
    }
   ],
   "source": [
    "hello(\"shubham\",\"AIML\",age=20)"
   ]
  },
  {
   "cell_type": "code",
   "execution_count": 167,
   "id": "1dae5384-b371-4d74-a127-79c40ab4a28f",
   "metadata": {},
   "outputs": [],
   "source": [
    "item = ['shubham', 'AIML']\n",
    "dict = {'age': 20}"
   ]
  },
  {
   "cell_type": "code",
   "execution_count": 168,
   "id": "e8d97939-de0f-45dc-9bdd-e5c7f0654687",
   "metadata": {},
   "outputs": [
    {
     "name": "stdout",
     "output_type": "stream",
     "text": [
      "(['shubham', 'AIML'], {'age': 20})\n",
      "{}\n"
     ]
    }
   ],
   "source": [
    "hello(item, dict)"
   ]
  },
  {
   "cell_type": "code",
   "execution_count": 169,
   "id": "9868cc51-a9cd-4783-be41-bf667bf136a9",
   "metadata": {},
   "outputs": [
    {
     "name": "stdout",
     "output_type": "stream",
     "text": [
      "('shubham', 'AIML')\n",
      "{'age': 20}\n"
     ]
    }
   ],
   "source": [
    "hello(*item, **dict)"
   ]
  },
  {
   "cell_type": "code",
   "execution_count": null,
   "id": "93ee9fdf-4a2b-402c-abb5-6db7332df381",
   "metadata": {},
   "outputs": [],
   "source": []
  },
  {
   "cell_type": "code",
   "execution_count": 170,
   "id": "5515dd90-8c08-4ce2-90c2-98f6deced1f8",
   "metadata": {},
   "outputs": [],
   "source": [
    "items = [1,2,3,4,5,6,7,8,9]"
   ]
  },
  {
   "cell_type": "code",
   "execution_count": 171,
   "id": "42369779-7a7b-4c07-a71c-c1d0be1b9a2d",
   "metadata": {},
   "outputs": [],
   "source": [
    "def sum_even_odd(items):\n",
    "    even_sum = 0\n",
    "    odd_sum = 0\n",
    "\n",
    "    for i in items:\n",
    "        if i%2 == 0:\n",
    "            even_sum = even_sum+i\n",
    "        else:\n",
    "            odd_sum = odd_sum+i\n",
    "    return even_sum, odd_sum"
   ]
  },
  {
   "cell_type": "code",
   "execution_count": 172,
   "id": "c4bf13a7-c6a3-4391-b443-4ac3f4ae54a7",
   "metadata": {},
   "outputs": [
    {
     "data": {
      "text/plain": [
       "(20, 25)"
      ]
     },
     "execution_count": 172,
     "metadata": {},
     "output_type": "execute_result"
    }
   ],
   "source": [
    "sum_even_odd(items)"
   ]
  },
  {
   "cell_type": "code",
   "execution_count": null,
   "id": "a53ff8cc-d18d-4783-91ed-f4f2878f1910",
   "metadata": {},
   "outputs": [],
   "source": []
  },
  {
   "cell_type": "markdown",
   "id": "d16cf212-6998-43c8-9d50-5c16451c9f8f",
   "metadata": {},
   "source": [
    "## Lambda Function in Python\n",
    "\n",
    "- Anonymous function. (A function with no name)"
   ]
  },
  {
   "cell_type": "code",
   "execution_count": 173,
   "id": "1ef88b95-47df-4a81-b2ff-4e57c4c5a76c",
   "metadata": {},
   "outputs": [],
   "source": [
    "## Normal Function\n",
    "\n",
    "def addition(a,b):\n",
    "    return a + b"
   ]
  },
  {
   "cell_type": "code",
   "execution_count": 174,
   "id": "ed6d7674-1e13-4cdf-827e-9768cdfefdef",
   "metadata": {},
   "outputs": [
    {
     "data": {
      "text/plain": [
       "9"
      ]
     },
     "execution_count": 174,
     "metadata": {},
     "output_type": "execute_result"
    }
   ],
   "source": [
    "addition(5,4)"
   ]
  },
  {
   "cell_type": "code",
   "execution_count": null,
   "id": "fc875df6-27d2-4286-96a9-175a7d4c70f2",
   "metadata": {},
   "outputs": [],
   "source": []
  },
  {
   "cell_type": "code",
   "execution_count": 175,
   "id": "b7275a0c-d93b-48dd-9fcf-0434b0e62484",
   "metadata": {},
   "outputs": [],
   "source": [
    "addtiona = lambda a,b:a+b"
   ]
  },
  {
   "cell_type": "code",
   "execution_count": 176,
   "id": "cb6a7ddb-3d1a-47b5-82ff-f4a989311dda",
   "metadata": {},
   "outputs": [
    {
     "data": {
      "text/plain": [
       "90"
      ]
     },
     "execution_count": 176,
     "metadata": {},
     "output_type": "execute_result"
    }
   ],
   "source": [
    "addition(50,40)"
   ]
  },
  {
   "cell_type": "code",
   "execution_count": null,
   "id": "cdc265c0-01d4-488f-85bd-b96e1d274e22",
   "metadata": {},
   "outputs": [],
   "source": []
  },
  {
   "cell_type": "code",
   "execution_count": 177,
   "id": "85d08c26-1ab1-429e-b622-2af700f5f32a",
   "metadata": {},
   "outputs": [],
   "source": [
    "## Normal Function\n",
    "\n",
    "def even(num):\n",
    "    if num%2 == 0:\n",
    "        return True\n",
    "        "
   ]
  },
  {
   "cell_type": "code",
   "execution_count": 178,
   "id": "226dcbb4-a8fa-47f7-a7b4-bd7cc3af9d6f",
   "metadata": {},
   "outputs": [
    {
     "data": {
      "text/plain": [
       "True"
      ]
     },
     "execution_count": 178,
     "metadata": {},
     "output_type": "execute_result"
    }
   ],
   "source": [
    "even(34)"
   ]
  },
  {
   "cell_type": "code",
   "execution_count": null,
   "id": "9f9af70f-05bb-47e9-a809-0c4a8da49022",
   "metadata": {},
   "outputs": [],
   "source": []
  },
  {
   "cell_type": "code",
   "execution_count": 179,
   "id": "547fcb5f-9906-4d42-849e-890910fa207a",
   "metadata": {},
   "outputs": [],
   "source": [
    "even = lambda num: num%2 == 0"
   ]
  },
  {
   "cell_type": "code",
   "execution_count": 180,
   "id": "fb472d0e-bd8a-409c-ab8c-551219606aa9",
   "metadata": {},
   "outputs": [
    {
     "data": {
      "text/plain": [
       "True"
      ]
     },
     "execution_count": 180,
     "metadata": {},
     "output_type": "execute_result"
    }
   ],
   "source": [
    "even(24)"
   ]
  },
  {
   "cell_type": "code",
   "execution_count": null,
   "id": "6fd72f54-abb4-4836-a452-da63314a7c91",
   "metadata": {},
   "outputs": [],
   "source": []
  },
  {
   "cell_type": "code",
   "execution_count": 181,
   "id": "1fc3724e-d248-4802-8928-c47a5b15f949",
   "metadata": {},
   "outputs": [],
   "source": [
    "## Normal Function\n",
    "\n",
    "def Multi(n1, n2, n3):\n",
    "    return n1*n2*n3"
   ]
  },
  {
   "cell_type": "code",
   "execution_count": 182,
   "id": "b49cff73-0a5c-4280-8ba0-cf94dde50318",
   "metadata": {},
   "outputs": [
    {
     "data": {
      "text/plain": [
       "120"
      ]
     },
     "execution_count": 182,
     "metadata": {},
     "output_type": "execute_result"
    }
   ],
   "source": [
    "Multi(4,5,6)"
   ]
  },
  {
   "cell_type": "code",
   "execution_count": null,
   "id": "8585fd5e-238b-4cc5-9993-bf803727bbfc",
   "metadata": {},
   "outputs": [],
   "source": []
  },
  {
   "cell_type": "markdown",
   "id": "85287287-0111-4828-a54e-173d62305bab",
   "metadata": {},
   "source": [
    "## Map Fuction in python"
   ]
  },
  {
   "cell_type": "code",
   "execution_count": 183,
   "id": "533f07ad-7591-4935-99c7-f84db9293e65",
   "metadata": {},
   "outputs": [],
   "source": [
    "# Normal function\n",
    "def even_or_odd(num):\n",
    "    if num%2 == 0:\n",
    "        return \"The {} is Even\".format(num)\n",
    "    else:\n",
    "        return \"The {} is Odd\".format(num)"
   ]
  },
  {
   "cell_type": "code",
   "execution_count": 184,
   "id": "98e84150-63a6-402c-8f2e-1f659e937016",
   "metadata": {},
   "outputs": [
    {
     "data": {
      "text/plain": [
       "'The 65 is Odd'"
      ]
     },
     "execution_count": 184,
     "metadata": {},
     "output_type": "execute_result"
    }
   ],
   "source": [
    "even_or_odd(65)"
   ]
  },
  {
   "cell_type": "code",
   "execution_count": 185,
   "id": "a04139a3-2290-4e1f-b803-9ae99bec0a71",
   "metadata": {},
   "outputs": [],
   "source": [
    "lst = [1,2,3,4,56,4,3,6,23,3,423,32,64,4,35,53,86]"
   ]
  },
  {
   "cell_type": "code",
   "execution_count": 186,
   "id": "e6731128-6861-4e4e-a818-f7500975c417",
   "metadata": {},
   "outputs": [
    {
     "data": {
      "text/plain": [
       "('The 1 is Odd',\n",
       " 'The 2 is Even',\n",
       " 'The 3 is Odd',\n",
       " 'The 4 is Even',\n",
       " 'The 56 is Even',\n",
       " 'The 4 is Even',\n",
       " 'The 3 is Odd',\n",
       " 'The 6 is Even',\n",
       " 'The 23 is Odd',\n",
       " 'The 3 is Odd',\n",
       " 'The 423 is Odd',\n",
       " 'The 32 is Even',\n",
       " 'The 64 is Even',\n",
       " 'The 4 is Even',\n",
       " 'The 35 is Odd',\n",
       " 'The 53 is Odd',\n",
       " 'The 86 is Even')"
      ]
     },
     "execution_count": 186,
     "metadata": {},
     "output_type": "execute_result"
    }
   ],
   "source": [
    "# map function\n",
    "tuple(map(even_or_odd,lst))"
   ]
  },
  {
   "cell_type": "code",
   "execution_count": null,
   "id": "31c21d14-3583-4476-8e7f-bfd351220782",
   "metadata": {},
   "outputs": [],
   "source": []
  }
 ],
 "metadata": {
  "kernelspec": {
   "display_name": "Python 3 (ipykernel)",
   "language": "python",
   "name": "python3"
  },
  "language_info": {
   "codemirror_mode": {
    "name": "ipython",
    "version": 3
   },
   "file_extension": ".py",
   "mimetype": "text/x-python",
   "name": "python",
   "nbconvert_exporter": "python",
   "pygments_lexer": "ipython3",
   "version": "3.12.7"
  }
 },
 "nbformat": 4,
 "nbformat_minor": 5
}
