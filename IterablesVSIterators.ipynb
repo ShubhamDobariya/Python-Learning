{
 "cells": [
  {
   "cell_type": "markdown",
   "id": "c58075b2-a4e4-4806-9e2c-fceeba3ca71a",
   "metadata": {},
   "source": [
    "## Python List Iterable VS Iterators"
   ]
  },
  {
   "cell_type": "code",
   "execution_count": 2,
   "id": "f8402d0f-8867-4d14-80a5-76640453dfaf",
   "metadata": {},
   "outputs": [
    {
     "name": "stdout",
     "output_type": "stream",
     "text": [
      "1\n",
      "2\n",
      "3\n",
      "4\n",
      "5\n",
      "6\n",
      "7\n",
      "8\n"
     ]
    }
   ],
   "source": [
    "## list is Iterable \n",
    "lst = [1,2,3,4,5,6,7,8]\n",
    "\n",
    "for i in lst:\n",
    "    print(i)"
   ]
  },
  {
   "cell_type": "code",
   "execution_count": null,
   "id": "1b2278f0-a682-4be7-a6ee-1e9187135705",
   "metadata": {},
   "outputs": [],
   "source": []
  },
  {
   "cell_type": "code",
   "execution_count": 22,
   "id": "e9c90824-6506-4809-af50-0d6f5742606a",
   "metadata": {},
   "outputs": [
    {
     "data": {
      "text/plain": [
       "<list_iterator at 0x24df0d720b0>"
      ]
     },
     "execution_count": 22,
     "metadata": {},
     "output_type": "execute_result"
    }
   ],
   "source": [
    "iter(lst)"
   ]
  },
  {
   "cell_type": "code",
   "execution_count": 23,
   "id": "9265e279-c9c3-4a2d-b955-eb31f935f415",
   "metadata": {},
   "outputs": [],
   "source": [
    "list1 = iter(lst)"
   ]
  },
  {
   "cell_type": "code",
   "execution_count": 24,
   "id": "b0e089d3-ce6c-4dfd-9bea-f0f68cd43a54",
   "metadata": {},
   "outputs": [
    {
     "data": {
      "text/plain": [
       "<list_iterator at 0x24df13d0580>"
      ]
     },
     "execution_count": 24,
     "metadata": {},
     "output_type": "execute_result"
    }
   ],
   "source": [
    "list1"
   ]
  },
  {
   "cell_type": "code",
   "execution_count": 25,
   "id": "a185654a-0b05-480c-8079-272e9cd07c34",
   "metadata": {},
   "outputs": [
    {
     "data": {
      "text/plain": [
       "1"
      ]
     },
     "execution_count": 25,
     "metadata": {},
     "output_type": "execute_result"
    }
   ],
   "source": [
    "next(list1)"
   ]
  },
  {
   "cell_type": "code",
   "execution_count": 27,
   "id": "0699c3ac-2101-4934-b392-a8063f8de2b1",
   "metadata": {},
   "outputs": [
    {
     "name": "stdout",
     "output_type": "stream",
     "text": [
      "2\n",
      "3\n",
      "4\n",
      "5\n",
      "6\n",
      "7\n",
      "8\n"
     ]
    }
   ],
   "source": [
    "for i in list1:\n",
    "    print(i)"
   ]
  },
  {
   "cell_type": "code",
   "execution_count": null,
   "id": "9cd38658-71c4-4bb9-9edd-c32552f3b154",
   "metadata": {},
   "outputs": [],
   "source": []
  }
 ],
 "metadata": {
  "kernelspec": {
   "display_name": "Python 3 (ipykernel)",
   "language": "python",
   "name": "python3"
  },
  "language_info": {
   "codemirror_mode": {
    "name": "ipython",
    "version": 3
   },
   "file_extension": ".py",
   "mimetype": "text/x-python",
   "name": "python",
   "nbconvert_exporter": "python",
   "pygments_lexer": "ipython3",
   "version": "3.12.2"
  }
 },
 "nbformat": 4,
 "nbformat_minor": 5
}
