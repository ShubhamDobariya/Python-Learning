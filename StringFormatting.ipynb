{
 "cells": [
  {
   "cell_type": "markdown",
   "id": "18a25eb6-4457-4e36-92fa-7dd33d705eac",
   "metadata": {},
   "source": [
    "## String Formatting in Python"
   ]
  },
  {
   "cell_type": "code",
   "execution_count": 1,
   "id": "5ad48787-1e72-4c03-90c7-3a236ffae07a",
   "metadata": {},
   "outputs": [
    {
     "name": "stdout",
     "output_type": "stream",
     "text": [
      "Hello everyone\n"
     ]
    }
   ],
   "source": [
    "print(\"Hello everyone\")"
   ]
  },
  {
   "cell_type": "code",
   "execution_count": 2,
   "id": "7ca085af-c22c-4c29-b09a-a817a4a35798",
   "metadata": {},
   "outputs": [],
   "source": [
    "def greeting(name):\n",
    "    return \"Hello {}, welcome to the community\".format(name)"
   ]
  },
  {
   "cell_type": "code",
   "execution_count": 3,
   "id": "58d03158-53da-4471-9646-38cc900e1eac",
   "metadata": {},
   "outputs": [
    {
     "data": {
      "text/plain": [
       "'Hello shubham, welcome to the community'"
      ]
     },
     "execution_count": 3,
     "metadata": {},
     "output_type": "execute_result"
    }
   ],
   "source": [
    "greeting(\"shubham\")"
   ]
  },
  {
   "cell_type": "code",
   "execution_count": 9,
   "id": "2b4cc8f9-4a68-4413-a18a-21e61543e0b5",
   "metadata": {},
   "outputs": [],
   "source": [
    "def welcome_email(name, age):\n",
    "    return \"Welcome {} and my age is {}.\".format(name, age)"
   ]
  },
  {
   "cell_type": "code",
   "execution_count": 10,
   "id": "b8eb4cc1-eeca-47a4-a1a1-ed58294a8270",
   "metadata": {},
   "outputs": [
    {
     "data": {
      "text/plain": [
       "'Welcome shubham and my age is 20.'"
      ]
     },
     "execution_count": 10,
     "metadata": {},
     "output_type": "execute_result"
    }
   ],
   "source": [
    "welcome_email(\"shubham\", 20)"
   ]
  },
  {
   "cell_type": "code",
   "execution_count": 11,
   "id": "fb287009-e204-4d77-9aa8-c77b46bcdcef",
   "metadata": {},
   "outputs": [
    {
     "data": {
      "text/plain": [
       "'Welcome 20 and my age is shubham.'"
      ]
     },
     "execution_count": 11,
     "metadata": {},
     "output_type": "execute_result"
    }
   ],
   "source": [
    "welcome_email(20,\"shubham\")"
   ]
  },
  {
   "cell_type": "code",
   "execution_count": 23,
   "id": "3e1d9789-fa2d-467d-b812-08be0df58003",
   "metadata": {},
   "outputs": [],
   "source": [
    "def welcome(name,age):\n",
    "    return \"welcome {name} and age is {age}\".format(name=name,age=age)"
   ]
  },
  {
   "cell_type": "code",
   "execution_count": 24,
   "id": "40f8b1e6-7aee-4e25-9471-87a9f20e7c18",
   "metadata": {},
   "outputs": [
    {
     "data": {
      "text/plain": [
       "'welcome shubham and age is 20'"
      ]
     },
     "execution_count": 24,
     "metadata": {},
     "output_type": "execute_result"
    }
   ],
   "source": [
    "welcome(\"shubham\", 20)"
   ]
  },
  {
   "cell_type": "code",
   "execution_count": null,
   "id": "48ad837a-444a-4021-958a-c8ab3140ece6",
   "metadata": {},
   "outputs": [],
   "source": []
  }
 ],
 "metadata": {
  "kernelspec": {
   "display_name": "Python 3 (ipykernel)",
   "language": "python",
   "name": "python3"
  },
  "language_info": {
   "codemirror_mode": {
    "name": "ipython",
    "version": 3
   },
   "file_extension": ".py",
   "mimetype": "text/x-python",
   "name": "python",
   "nbconvert_exporter": "python",
   "pygments_lexer": "ipython3",
   "version": "3.12.2"
  }
 },
 "nbformat": 4,
 "nbformat_minor": 5
}
