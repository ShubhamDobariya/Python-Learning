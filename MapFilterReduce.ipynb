{
 "cells": [
  {
   "cell_type": "markdown",
   "id": "82daa054-8b82-470b-b892-4edd596b2500",
   "metadata": {},
   "source": [
    "## Map Function in Python"
   ]
  },
  {
   "cell_type": "code",
   "execution_count": 25,
   "id": "33b67592-c31c-47fb-81fc-26a33304cc38",
   "metadata": {},
   "outputs": [],
   "source": [
    "def even_or_odd(num):\n",
    "    if num%2 == 0:\n",
    "        return \"The {} is Even\".format(num)\n",
    "    else:\n",
    "        return \"The {} is Odd\".format(num)"
   ]
  },
  {
   "cell_type": "code",
   "execution_count": 27,
   "id": "70fee5ac-fa51-4301-9bd8-e16465b85527",
   "metadata": {},
   "outputs": [],
   "source": [
    "lst = [1,2,3,4,56,4,3,6,23,3,423,32,64,4,35,53,86]"
   ]
  },
  {
   "cell_type": "code",
   "execution_count": 29,
   "id": "72a6a76e-74d8-4cff-9692-ca07e243236f",
   "metadata": {},
   "outputs": [
    {
     "data": {
      "text/plain": [
       "['The 1 is Odd',\n",
       " 'The 2 is Even',\n",
       " 'The 3 is Odd',\n",
       " 'The 4 is Even',\n",
       " 'The 56 is Even',\n",
       " 'The 4 is Even',\n",
       " 'The 3 is Odd',\n",
       " 'The 6 is Even',\n",
       " 'The 23 is Odd',\n",
       " 'The 3 is Odd',\n",
       " 'The 423 is Odd',\n",
       " 'The 32 is Even',\n",
       " 'The 64 is Even',\n",
       " 'The 4 is Even',\n",
       " 'The 35 is Odd',\n",
       " 'The 53 is Odd',\n",
       " 'The 86 is Even']"
      ]
     },
     "execution_count": 29,
     "metadata": {},
     "output_type": "execute_result"
    }
   ],
   "source": [
    "list(map(even_or_odd,lst))"
   ]
  },
  {
   "cell_type": "code",
   "execution_count": null,
   "id": "9ac10756-3d84-4f92-a463-43a496fe7058",
   "metadata": {},
   "outputs": [],
   "source": []
  },
  {
   "cell_type": "markdown",
   "id": "0fd05891-2406-41ab-ad61-248d10f4755c",
   "metadata": {},
   "source": [
    "## Filter Function in Python"
   ]
  },
  {
   "cell_type": "code",
   "execution_count": 33,
   "id": "10297527-9bd5-48dd-91cc-d3b978f3cd70",
   "metadata": {},
   "outputs": [],
   "source": [
    "def even(num):\n",
    "    if num%2 == 0:\n",
    "        return True"
   ]
  },
  {
   "cell_type": "code",
   "execution_count": 35,
   "id": "fb2c3f81-27e8-49e5-991d-f25fe6d29cc0",
   "metadata": {},
   "outputs": [],
   "source": [
    "nums = [1,4,3,67,8,5,2,22,6,89,43]"
   ]
  },
  {
   "cell_type": "code",
   "execution_count": 37,
   "id": "e2bb8cae-434f-49d4-9ac0-19e8a025a7d1",
   "metadata": {},
   "outputs": [
    {
     "data": {
      "text/plain": [
       "[4, 8, 2, 22, 6]"
      ]
     },
     "execution_count": 37,
     "metadata": {},
     "output_type": "execute_result"
    }
   ],
   "source": [
    "list(filter(even,nums))"
   ]
  },
  {
   "cell_type": "code",
   "execution_count": 39,
   "id": "d674befa-af59-4f99-975c-d1b4cfb1c3bc",
   "metadata": {},
   "outputs": [
    {
     "data": {
      "text/plain": [
       "[4, 8, 2, 22, 6]"
      ]
     },
     "execution_count": 39,
     "metadata": {},
     "output_type": "execute_result"
    }
   ],
   "source": [
    "list(filter(lambda num:num%2 == 0, nums))"
   ]
  },
  {
   "cell_type": "code",
   "execution_count": 41,
   "id": "c485c59a-cd34-4d11-94ec-f847672d7b25",
   "metadata": {},
   "outputs": [
    {
     "data": {
      "text/plain": [
       "[False, True, False, False, True, False, True, True, True, False, False]"
      ]
     },
     "execution_count": 41,
     "metadata": {},
     "output_type": "execute_result"
    }
   ],
   "source": [
    "list(map(lambda num:num%2 == 0, nums))"
   ]
  },
  {
   "cell_type": "code",
   "execution_count": null,
   "id": "8e4fe266-77bf-444f-a62f-929f493ddbc1",
   "metadata": {},
   "outputs": [],
   "source": []
  },
  {
   "cell_type": "markdown",
   "id": "86dede9a-1332-4a0f-bb42-7e2e8c67a6c2",
   "metadata": {},
   "source": [
    "## Reduce Function in Python"
   ]
  },
  {
   "cell_type": "code",
   "execution_count": 45,
   "id": "b23cc656-cc2d-4a7e-9296-a625accb8cc9",
   "metadata": {},
   "outputs": [],
   "source": [
    "from functools import reduce"
   ]
  },
  {
   "cell_type": "code",
   "execution_count": 47,
   "id": "b2f50cb6-37af-4cba-85d2-47c6926afe0b",
   "metadata": {},
   "outputs": [],
   "source": [
    "def sum(num1,num2):\n",
    "    return num1 + num2"
   ]
  },
  {
   "cell_type": "code",
   "execution_count": 49,
   "id": "2715b459-8c0a-44cb-b82c-69a08cf309ca",
   "metadata": {},
   "outputs": [],
   "source": [
    "numbers = [2,3,1,4,5,6,2,3,3,5]"
   ]
  },
  {
   "cell_type": "code",
   "execution_count": 53,
   "id": "8493d510-19bd-408e-9cbc-17d51b0302f7",
   "metadata": {},
   "outputs": [
    {
     "data": {
      "text/plain": [
       "34"
      ]
     },
     "execution_count": 53,
     "metadata": {},
     "output_type": "execute_result"
    }
   ],
   "source": [
    "reduce(sum, numbers)"
   ]
  },
  {
   "cell_type": "code",
   "execution_count": null,
   "id": "e27b0ed1-f3ba-47e0-96e4-9be6d64cfef6",
   "metadata": {},
   "outputs": [],
   "source": []
  },
  {
   "cell_type": "code",
   "execution_count": null,
   "id": "3eded132-f207-4aac-be8a-285e5acf2e66",
   "metadata": {},
   "outputs": [],
   "source": []
  },
  {
   "cell_type": "code",
   "execution_count": null,
   "id": "bf5666d9-a666-4cf9-a5ae-93af3723d9fd",
   "metadata": {},
   "outputs": [],
   "source": []
  },
  {
   "cell_type": "code",
   "execution_count": null,
   "id": "a76be374-36d7-4585-8af9-9609c855bb0f",
   "metadata": {},
   "outputs": [],
   "source": []
  },
  {
   "cell_type": "code",
   "execution_count": null,
   "id": "0b79eb51-5981-4e7e-bf4a-ca80698d4c7b",
   "metadata": {},
   "outputs": [],
   "source": []
  },
  {
   "cell_type": "code",
   "execution_count": null,
   "id": "ad674afc-3712-4df8-9e0b-3f829959b4ed",
   "metadata": {},
   "outputs": [],
   "source": []
  }
 ],
 "metadata": {
  "kernelspec": {
   "display_name": "Python 3 (ipykernel)",
   "language": "python",
   "name": "python3"
  },
  "language_info": {
   "codemirror_mode": {
    "name": "ipython",
    "version": 3
   },
   "file_extension": ".py",
   "mimetype": "text/x-python",
   "name": "python",
   "nbconvert_exporter": "python",
   "pygments_lexer": "ipython3",
   "version": "3.12.7"
  }
 },
 "nbformat": 4,
 "nbformat_minor": 5
}
