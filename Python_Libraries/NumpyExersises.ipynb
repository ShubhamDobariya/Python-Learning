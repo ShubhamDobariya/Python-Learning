{
 "cells": [
  {
   "cell_type": "code",
   "execution_count": 137,
   "id": "b9a3cbf6-7dae-449c-8124-5643e69ae07f",
   "metadata": {},
   "outputs": [],
   "source": [
    "import numpy as np"
   ]
  },
  {
   "cell_type": "markdown",
   "id": "9138ac7e-36d1-45d7-86f4-3dbe141f1ba3",
   "metadata": {},
   "source": [
    "## Vaild Sudoku"
   ]
  },
  {
   "cell_type": "code",
   "execution_count": 139,
   "id": "36fd0d71-c664-4c84-a6a1-84741ff55607",
   "metadata": {},
   "outputs": [],
   "source": [
    "s = np.array([\n",
    "    [5, 3, 4, 6, 7, 8, 9, 1, 2],\n",
    "    [6, 7, 2, 1, 9, 5, 3, 4, 8],\n",
    "    [1, 9, 8, 3, 4, 2, 5, 6, 7],\n",
    "    \n",
    "    [8, 5, 9, 7, 6, 1, 4, 2, 3],\n",
    "    [4, 2, 6, 8, 5, 3, 7, 9, 1],\n",
    "    [7, 1, 3, 9, 2, 4, 8, 5, 6],\n",
    "    \n",
    "    [9, 6, 1, 5, 3, 7, 2, 8, 4],\n",
    "    [2, 8, 7, 4, 1, 9, 6, 3, 5],\n",
    "    [3, 4, 5, 2, 8, 6, 1, 7, 9]\n",
    "])"
   ]
  },
  {
   "cell_type": "code",
   "execution_count": 140,
   "id": "d3a2a4e8-ad14-4c69-8ec9-5c7e79304f3f",
   "metadata": {},
   "outputs": [
    {
     "name": "stdout",
     "output_type": "stream",
     "text": [
      "Sudoku is Vaild\n"
     ]
    }
   ],
   "source": [
    "row = np.sum(s, axis=1) # row\n",
    "for i in row:\n",
    "    if i != 45:\n",
    "        print(\"Sudoku is not Vaild\")\n",
    "        break\n",
    "else:\n",
    "    print(\"Sudoku is Vaild\")"
   ]
  },
  {
   "cell_type": "code",
   "execution_count": 141,
   "id": "967d6d7a-8edf-411d-8b3b-c2b9fe502e60",
   "metadata": {},
   "outputs": [
    {
     "name": "stdout",
     "output_type": "stream",
     "text": [
      "Sudoku is Vaild\n"
     ]
    }
   ],
   "source": [
    "column = np.sum(s, axis=0) # column\n",
    "for i in column:\n",
    "    if i != 45:\n",
    "        print(\"Sudoku is not Vaild\")\n",
    "        break\n",
    "else:\n",
    "    print(\"Sudoku is Vaild\")    "
   ]
  },
  {
   "cell_type": "code",
   "execution_count": 142,
   "id": "3b4fe1ec-ec91-448d-aad9-188e6a87d9a7",
   "metadata": {},
   "outputs": [
    {
     "data": {
      "text/plain": [
       "array([[5, 3, 4],\n",
       "       [6, 7, 2],\n",
       "       [1, 9, 8]])"
      ]
     },
     "execution_count": 142,
     "metadata": {},
     "output_type": "execute_result"
    }
   ],
   "source": [
    "s[0:3,0:3]"
   ]
  },
  {
   "cell_type": "code",
   "execution_count": 143,
   "id": "0b8747bd-75b4-4576-a252-4d16081623ea",
   "metadata": {},
   "outputs": [
    {
     "data": {
      "text/plain": [
       "array([[6, 7, 8],\n",
       "       [1, 9, 5],\n",
       "       [3, 4, 2]])"
      ]
     },
     "execution_count": 143,
     "metadata": {},
     "output_type": "execute_result"
    }
   ],
   "source": [
    "s[0:3,3:6]"
   ]
  },
  {
   "cell_type": "code",
   "execution_count": 144,
   "id": "dcfc7099-15c4-42c5-9924-6a40ab7ac54e",
   "metadata": {},
   "outputs": [
    {
     "data": {
      "text/plain": [
       "array([[9, 1, 2],\n",
       "       [3, 4, 8],\n",
       "       [5, 6, 7]])"
      ]
     },
     "execution_count": 144,
     "metadata": {},
     "output_type": "execute_result"
    }
   ],
   "source": [
    "s[0:3,6:9]"
   ]
  },
  {
   "cell_type": "code",
   "execution_count": 145,
   "id": "954dd9ab-c30f-452a-b8ab-ff834d6c2acf",
   "metadata": {},
   "outputs": [
    {
     "name": "stdout",
     "output_type": "stream",
     "text": [
      "45\n",
      "45\n",
      "45\n",
      "45\n",
      "45\n",
      "45\n",
      "45\n",
      "45\n",
      "45\n"
     ]
    }
   ],
   "source": [
    "for i in range(0,9,3):\n",
    "    for j in range(0,9,3): \n",
    "        n = s[i:i+3,j:j+3]\n",
    "        print(n.sum())"
   ]
  },
  {
   "cell_type": "code",
   "execution_count": null,
   "id": "e34afe95-3883-4ee7-a660-4517b6b51422",
   "metadata": {},
   "outputs": [],
   "source": []
  },
  {
   "cell_type": "markdown",
   "id": "4961723a-688f-4eed-98a5-28707fda3aaf",
   "metadata": {},
   "source": [
    "## General Questions"
   ]
  },
  {
   "cell_type": "code",
   "execution_count": 147,
   "id": "aa962791-f73d-48e4-86e6-e0acaaa45a11",
   "metadata": {},
   "outputs": [],
   "source": [
    "# Columns: [Age, Math Marks, Science Marks]\n",
    "data = np.array([\n",
    "    [18, 85, 78],   # Student 1\n",
    "    [19, 92, 88],   # Student 2\n",
    "    [17, 76, 95],   # Student 3\n",
    "    [18, 65, 70],   # Student 4\n",
    "    [20, 90, 85]    # Student 5\n",
    "])"
   ]
  },
  {
   "cell_type": "code",
   "execution_count": 148,
   "id": "18cd0f18-99fd-45fe-99f5-2b8682463d14",
   "metadata": {},
   "outputs": [
    {
     "data": {
      "text/plain": [
       "(5, 3)"
      ]
     },
     "execution_count": 148,
     "metadata": {},
     "output_type": "execute_result"
    }
   ],
   "source": [
    "#Get the shape of the matrix.\n",
    "data.shape"
   ]
  },
  {
   "cell_type": "code",
   "execution_count": 149,
   "id": "48307343-928a-4a46-9205-abdd367c9521",
   "metadata": {},
   "outputs": [
    {
     "name": "stdout",
     "output_type": "stream",
     "text": [
      "(18.4, 18.4)\n"
     ]
    }
   ],
   "source": [
    "#Find the average age of students.\n",
    "a1 = np.average(data[:,0])\n",
    "# OR \n",
    "a2 = np.mean(data[:,0])\n",
    "\n",
    "print((a1,a2))"
   ]
  },
  {
   "cell_type": "code",
   "execution_count": 150,
   "id": "e8012929-592c-49c5-9282-8e161204d971",
   "metadata": {},
   "outputs": [
    {
     "data": {
      "text/plain": [
       "array([85, 92, 76, 65, 90])"
      ]
     },
     "execution_count": 150,
     "metadata": {},
     "output_type": "execute_result"
    }
   ],
   "source": [
    "#Extract Math marks of all students.\n",
    "data[:,1]"
   ]
  },
  {
   "cell_type": "code",
   "execution_count": 151,
   "id": "116b0476-02c9-4d2a-afd2-cd405e3c562b",
   "metadata": {},
   "outputs": [
    {
     "data": {
      "text/plain": [
       "95"
      ]
     },
     "execution_count": 151,
     "metadata": {},
     "output_type": "execute_result"
    }
   ],
   "source": [
    "#Find the highest Science mark.\n",
    "np.max(data[:,2])"
   ]
  },
  {
   "cell_type": "code",
   "execution_count": 152,
   "id": "8d737c5e-c67e-4aa5-bc80-209a637f95d5",
   "metadata": {},
   "outputs": [
    {
     "data": {
      "text/plain": [
       "array([[19, 92, 88]])"
      ]
     },
     "execution_count": 152,
     "metadata": {},
     "output_type": "execute_result"
    }
   ],
   "source": [
    "#Get details of the student who scored more than 90 in Math.\n",
    "data[data[:,1] > 90]"
   ]
  },
  {
   "cell_type": "code",
   "execution_count": 153,
   "id": "193b9ed9-f946-4a49-b930-40c7fdbd49e5",
   "metadata": {},
   "outputs": [
    {
     "data": {
      "text/plain": [
       "array([[18, 90, 78],\n",
       "       [19, 97, 88],\n",
       "       [17, 81, 95],\n",
       "       [18, 70, 70],\n",
       "       [20, 95, 85]])"
      ]
     },
     "execution_count": 153,
     "metadata": {},
     "output_type": "execute_result"
    }
   ],
   "source": [
    "#Increase Math marks of all students by 5.\n",
    "data[:,1] += 5\n",
    "data"
   ]
  },
  {
   "cell_type": "code",
   "execution_count": 154,
   "id": "ec47fbd0-b4c6-4a49-8e1e-96e0dd22d7a1",
   "metadata": {},
   "outputs": [
    {
     "data": {
      "text/plain": [
       "3"
      ]
     },
     "execution_count": 154,
     "metadata": {},
     "output_type": "execute_result"
    }
   ],
   "source": [
    "#Find how many students are younger than 19.\n",
    "sum(data[:,0] < 19)"
   ]
  },
  {
   "cell_type": "code",
   "execution_count": 155,
   "id": "8177ad6f-312f-4b65-877a-6585e7515a3a",
   "metadata": {},
   "outputs": [
    {
     "data": {
      "text/plain": [
       "array([86.6, 83.2])"
      ]
     },
     "execution_count": 155,
     "metadata": {},
     "output_type": "execute_result"
    }
   ],
   "source": [
    "#Calculate the average marks in each subject (column-wise mean).\n",
    "np.mean(data[:,1:], axis=0)"
   ]
  },
  {
   "cell_type": "code",
   "execution_count": 156,
   "id": "f116c772-3ba5-4c14-bb0e-5550d172e539",
   "metadata": {},
   "outputs": [
    {
     "data": {
      "text/plain": [
       "array([[19, 97, 88],\n",
       "       [17, 81, 95],\n",
       "       [20, 95, 85]])"
      ]
     },
     "execution_count": 156,
     "metadata": {},
     "output_type": "execute_result"
    }
   ],
   "source": [
    "#Get data of students who scored at least 80 in both subjects.\n",
    "data[(data[:,1] >= 80) & (data[:,2] >= 80)]"
   ]
  },
  {
   "cell_type": "code",
   "execution_count": 157,
   "id": "8f118ebf-f850-4bed-a66b-cec8c2dd2d15",
   "metadata": {},
   "outputs": [
    {
     "data": {
      "text/plain": [
       "array([[18, 90, 78],\n",
       "       [19, 97, 88],\n",
       "       [17, 81, 95],\n",
       "       [18, 70,  0],\n",
       "       [20, 95, 85]])"
      ]
     },
     "execution_count": 157,
     "metadata": {},
     "output_type": "execute_result"
    }
   ],
   "source": [
    "#Replace all Science marks < 75 with 0.\n",
    "data[:,2][data[:,2] < 75] = 0\n",
    "data"
   ]
  },
  {
   "cell_type": "code",
   "execution_count": null,
   "id": "38b8704e-26c8-42a4-af9c-56204f4e105b",
   "metadata": {},
   "outputs": [],
   "source": []
  },
  {
   "cell_type": "code",
   "execution_count": null,
   "id": "50e00460-d07e-40e3-b5f7-8d9148ead37e",
   "metadata": {},
   "outputs": [],
   "source": []
  }
 ],
 "metadata": {
  "kernelspec": {
   "display_name": "Python 3 (ipykernel)",
   "language": "python",
   "name": "python3"
  },
  "language_info": {
   "codemirror_mode": {
    "name": "ipython",
    "version": 3
   },
   "file_extension": ".py",
   "mimetype": "text/x-python",
   "name": "python",
   "nbconvert_exporter": "python",
   "pygments_lexer": "ipython3",
   "version": "3.12.7"
  }
 },
 "nbformat": 4,
 "nbformat_minor": 5
}
