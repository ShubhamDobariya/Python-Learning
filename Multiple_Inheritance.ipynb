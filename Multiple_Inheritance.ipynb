{
 "cells": [
  {
   "cell_type": "markdown",
   "id": "00710883-4879-4f32-9544-b3c6328745dd",
   "metadata": {},
   "source": [
    "## OOPS-Multiple Inheritance in python"
   ]
  },
  {
   "cell_type": "code",
   "execution_count": 61,
   "id": "40d8d02c-89df-44dd-8300-499349c6a0c6",
   "metadata": {},
   "outputs": [],
   "source": [
    "class A:\n",
    "    def method1(self):\n",
    "        print(\"A class method is called\")"
   ]
  },
  {
   "cell_type": "code",
   "execution_count": 62,
   "id": "9887cd02-d6f7-47e8-923f-5568692686da",
   "metadata": {},
   "outputs": [],
   "source": [
    "class B():\n",
    "    def method1(self):\n",
    "        print(\"B class method is called\")\n",
    "\n",
    "    def method2(self):\n",
    "        print(\"B class method2 is called\")"
   ]
  },
  {
   "cell_type": "code",
   "execution_count": 55,
   "id": "f7b3a3e7-2f57-4914-939f-612c49e543b2",
   "metadata": {},
   "outputs": [],
   "source": [
    "class C():\n",
    "    def method1(self):\n",
    "        print(\"C class method is called\")"
   ]
  },
  {
   "cell_type": "code",
   "execution_count": 56,
   "id": "03beb9c7-3630-4908-9839-c91b21678098",
   "metadata": {},
   "outputs": [],
   "source": [
    "class D(B,C):\n",
    "    def method1(self):\n",
    "        print(\"D class method is called\")\n",
    "        C.method1(self)\n",
    "        B.method1(self)\n",
    "        A.method1(self)"
   ]
  },
  {
   "cell_type": "code",
   "execution_count": 57,
   "id": "0b56a10f-9210-4fb4-896b-b4924d33ef82",
   "metadata": {},
   "outputs": [],
   "source": [
    "d = D()"
   ]
  },
  {
   "cell_type": "code",
   "execution_count": 58,
   "id": "c1c08b0c-73fb-4d24-ae8e-5dc62a68a68d",
   "metadata": {},
   "outputs": [
    {
     "name": "stdout",
     "output_type": "stream",
     "text": [
      "D class method is called\n",
      "C class method is called\n",
      "B class method is called\n",
      "A class method is called\n"
     ]
    }
   ],
   "source": [
    "d.method1()"
   ]
  },
  {
   "cell_type": "code",
   "execution_count": 59,
   "id": "adbb4843-963e-489f-9f0e-29444e8e3c62",
   "metadata": {},
   "outputs": [
    {
     "name": "stdout",
     "output_type": "stream",
     "text": [
      "B class method is called\n"
     ]
    }
   ],
   "source": [
    "B.method1(d)"
   ]
  },
  {
   "cell_type": "code",
   "execution_count": 60,
   "id": "60abaacf-805a-41fd-83a5-f93c953a234e",
   "metadata": {},
   "outputs": [
    {
     "name": "stdout",
     "output_type": "stream",
     "text": [
      "A class method is called\n"
     ]
    }
   ],
   "source": [
    "A.method1(d)"
   ]
  },
  {
   "cell_type": "code",
   "execution_count": null,
   "id": "43505c49-ce57-4743-b652-0214cba5b829",
   "metadata": {},
   "outputs": [],
   "source": []
  },
  {
   "cell_type": "code",
   "execution_count": null,
   "id": "2828c99a-8f6e-4500-87a4-c2753b5eee65",
   "metadata": {},
   "outputs": [],
   "source": []
  }
 ],
 "metadata": {
  "kernelspec": {
   "display_name": "Python 3 (ipykernel)",
   "language": "python",
   "name": "python3"
  },
  "language_info": {
   "codemirror_mode": {
    "name": "ipython",
    "version": 3
   },
   "file_extension": ".py",
   "mimetype": "text/x-python",
   "name": "python",
   "nbconvert_exporter": "python",
   "pygments_lexer": "ipython3",
   "version": "3.12.2"
  }
 },
 "nbformat": 4,
 "nbformat_minor": 5
}
