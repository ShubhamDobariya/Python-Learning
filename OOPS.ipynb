{
 "cells": [
  {
   "cell_type": "markdown",
   "id": "469b3b84-4570-430c-b8e3-307101253f7d",
   "metadata": {},
   "source": [
    "## OOPS in Python"
   ]
  },
  {
   "cell_type": "code",
   "execution_count": 4,
   "id": "8877ac98-ce84-4856-b5e6-aa01cd5e20ec",
   "metadata": {},
   "outputs": [],
   "source": [
    " class Car:\n",
    "     def __init__(self, window, door, enginetype):\n",
    "         self.windows = window\n",
    "         self.doors = door\n",
    "         self.enginetype = enginetype\n",
    "         \n",
    "     def self_driving(self):\n",
    "        return \"This is a {} car\".format(self.enginetype)\n",
    "         \n",
    "     "
   ]
  },
  {
   "cell_type": "code",
   "execution_count": 5,
   "id": "a6093e9a-e7f7-4256-a83d-3c4d7ffeeaf9",
   "metadata": {},
   "outputs": [],
   "source": [
    "car1 = Car(4,5,\"petrol\")"
   ]
  },
  {
   "cell_type": "code",
   "execution_count": 6,
   "id": "dc1dfeb7-831f-437d-93e3-99fc07ffb007",
   "metadata": {},
   "outputs": [
    {
     "data": {
      "text/plain": [
       "'This is a petrol car'"
      ]
     },
     "execution_count": 6,
     "metadata": {},
     "output_type": "execute_result"
    }
   ],
   "source": [
    "car1.self_driving()"
   ]
  },
  {
   "cell_type": "code",
   "execution_count": 7,
   "id": "c87192f7-dd20-431f-8896-a57534d98f52",
   "metadata": {},
   "outputs": [],
   "source": [
    "car2 = Car(3,4,\"diesel\")"
   ]
  },
  {
   "cell_type": "code",
   "execution_count": 8,
   "id": "f31da052-cac7-4b4b-b829-f5505ec42215",
   "metadata": {},
   "outputs": [
    {
     "name": "stdout",
     "output_type": "stream",
     "text": [
      "4\n"
     ]
    }
   ],
   "source": [
    "print(car1.windows)"
   ]
  },
  {
   "cell_type": "code",
   "execution_count": 9,
   "id": "c909426a-0b2f-4676-85ab-68c19bb5ec62",
   "metadata": {},
   "outputs": [
    {
     "name": "stdout",
     "output_type": "stream",
     "text": [
      "diesel\n"
     ]
    }
   ],
   "source": [
    "print(car2.enginetype)"
   ]
  },
  {
   "cell_type": "code",
   "execution_count": 10,
   "id": "a4d9ca6e-0733-4432-9956-78d38dcbb418",
   "metadata": {},
   "outputs": [
    {
     "data": {
      "text/plain": [
       "<__main__.Car at 0x2302e12d6a0>"
      ]
     },
     "execution_count": 10,
     "metadata": {},
     "output_type": "execute_result"
    }
   ],
   "source": [
    "car1"
   ]
  },
  {
   "cell_type": "code",
   "execution_count": 11,
   "id": "065bef31-a51a-42a0-be2f-d30499dfb4ed",
   "metadata": {},
   "outputs": [],
   "source": [
    "car1.windows = 5\n",
    "car1.doors = 4"
   ]
  },
  {
   "cell_type": "code",
   "execution_count": 12,
   "id": "8d4a36a8-31aa-4bdc-9be3-56bf44a94bca",
   "metadata": {},
   "outputs": [
    {
     "name": "stdout",
     "output_type": "stream",
     "text": [
      "5\n"
     ]
    }
   ],
   "source": [
    "print(car1.windows)"
   ]
  },
  {
   "cell_type": "code",
   "execution_count": 13,
   "id": "e5272c51-c368-4c83-8135-8cd881f4eeb6",
   "metadata": {},
   "outputs": [
    {
     "ename": "TypeError",
     "evalue": "Car.__init__() missing 3 required positional arguments: 'window', 'door', and 'enginetype'",
     "output_type": "error",
     "traceback": [
      "\u001b[1;31m---------------------------------------------------------------------------\u001b[0m",
      "\u001b[1;31mTypeError\u001b[0m                                 Traceback (most recent call last)",
      "Cell \u001b[1;32mIn[13], line 1\u001b[0m\n\u001b[1;32m----> 1\u001b[0m car2 \u001b[38;5;241m=\u001b[39m \u001b[43mCar\u001b[49m\u001b[43m(\u001b[49m\u001b[43m)\u001b[49m\n",
      "\u001b[1;31mTypeError\u001b[0m: Car.__init__() missing 3 required positional arguments: 'window', 'door', and 'enginetype'"
     ]
    }
   ],
   "source": [
    "car2 = Car()"
   ]
  },
  {
   "cell_type": "code",
   "execution_count": 26,
   "id": "b5197d9f-9769-4c45-83be-4a077e4fadf5",
   "metadata": {},
   "outputs": [],
   "source": [
    "car2.windows = 2\n",
    "car2.doors = 2"
   ]
  },
  {
   "cell_type": "code",
   "execution_count": 28,
   "id": "9dfcbe8e-1f57-4df2-aebb-774e3be68293",
   "metadata": {},
   "outputs": [
    {
     "name": "stdout",
     "output_type": "stream",
     "text": [
      "2\n"
     ]
    }
   ],
   "source": [
    "print(car2.windows)"
   ]
  },
  {
   "cell_type": "code",
   "execution_count": 30,
   "id": "7e06fbfb-2710-4446-9bca-2241330b3107",
   "metadata": {},
   "outputs": [],
   "source": [
    "car2.engintype = 'petrol'"
   ]
  },
  {
   "cell_type": "code",
   "execution_count": 32,
   "id": "8d453302-6007-4a0e-a8e3-1c8682beb238",
   "metadata": {},
   "outputs": [
    {
     "name": "stdout",
     "output_type": "stream",
     "text": [
      "petrol\n"
     ]
    }
   ],
   "source": [
    "print(car2.engintype)"
   ]
  },
  {
   "cell_type": "code",
   "execution_count": null,
   "id": "e54ccc52-d51c-4e22-8964-fc82fdc60db3",
   "metadata": {},
   "outputs": [],
   "source": []
  },
  {
   "cell_type": "markdown",
   "id": "24cc359a-758c-466a-a1a1-f7bbe75ba3b5",
   "metadata": {},
   "source": [
    "## Inheritance in Python"
   ]
  },
  {
   "cell_type": "code",
   "execution_count": 36,
   "id": "0b987997-01ba-4cef-9963-8726f20c78cc",
   "metadata": {},
   "outputs": [],
   "source": [
    "## All the class variable are public \n",
    "## Car Blueprint\n",
    "class Car():\n",
    "    def __init__(self, windows, doors, enginetype):\n",
    "        self.windows = windows\n",
    "        self.doors = doors\n",
    "        self.enginetype = enginetype\n",
    "    def drive(self):\n",
    "        print(\"The Person drive the car\")"
   ]
  },
  {
   "cell_type": "code",
   "execution_count": 38,
   "id": "57d80cbd-5d6c-4bf9-a5af-83099dd43b2f",
   "metadata": {},
   "outputs": [],
   "source": [
    "car = Car(4,5,\"diesel\")"
   ]
  },
  {
   "cell_type": "code",
   "execution_count": 40,
   "id": "e40bbf8d-4a64-40e1-9718-6a18c79b8692",
   "metadata": {},
   "outputs": [
    {
     "data": {
      "text/plain": [
       "4"
      ]
     },
     "execution_count": 40,
     "metadata": {},
     "output_type": "execute_result"
    }
   ],
   "source": [
    "car.windows"
   ]
  },
  {
   "cell_type": "code",
   "execution_count": 42,
   "id": "d1f7df1e-a92e-405a-af28-d87f31781102",
   "metadata": {},
   "outputs": [
    {
     "name": "stdout",
     "output_type": "stream",
     "text": [
      "The Person drive the car\n"
     ]
    }
   ],
   "source": [
    "car.drive()"
   ]
  },
  {
   "cell_type": "code",
   "execution_count": 44,
   "id": "5d386d07-19c0-433a-8748-fb31afb99069",
   "metadata": {},
   "outputs": [],
   "source": [
    "class audi(Car):\n",
    "    def __init__(self,  windows, doors, enginetype, enableai):\n",
    "        super().__init__(windows, doors, enginetype)\n",
    "        self.enableai = enableai\n",
    "    def selfdriving(self):\n",
    "        print(\"Audi support self driving\")"
   ]
  },
  {
   "cell_type": "code",
   "execution_count": 46,
   "id": "5100bf2a-142c-4dd4-b238-14c1e9a0ab11",
   "metadata": {},
   "outputs": [],
   "source": [
    "audiQ7 = audi(8,9,\"diesel\",True)"
   ]
  },
  {
   "cell_type": "code",
   "execution_count": 48,
   "id": "913f68a1-ade3-4d86-9d78-72395e9fc0db",
   "metadata": {},
   "outputs": [
    {
     "data": {
      "text/plain": [
       "['__class__',\n",
       " '__delattr__',\n",
       " '__dict__',\n",
       " '__dir__',\n",
       " '__doc__',\n",
       " '__eq__',\n",
       " '__format__',\n",
       " '__ge__',\n",
       " '__getattribute__',\n",
       " '__getstate__',\n",
       " '__gt__',\n",
       " '__hash__',\n",
       " '__init__',\n",
       " '__init_subclass__',\n",
       " '__le__',\n",
       " '__lt__',\n",
       " '__module__',\n",
       " '__ne__',\n",
       " '__new__',\n",
       " '__reduce__',\n",
       " '__reduce_ex__',\n",
       " '__repr__',\n",
       " '__setattr__',\n",
       " '__sizeof__',\n",
       " '__str__',\n",
       " '__subclasshook__',\n",
       " '__weakref__',\n",
       " 'doors',\n",
       " 'drive',\n",
       " 'enableai',\n",
       " 'enginetype',\n",
       " 'selfdriving',\n",
       " 'windows']"
      ]
     },
     "execution_count": 48,
     "metadata": {},
     "output_type": "execute_result"
    }
   ],
   "source": [
    "dir(audiQ7)"
   ]
  },
  {
   "cell_type": "code",
   "execution_count": 50,
   "id": "554d4076-0184-473f-97d0-2ac50f797ca9",
   "metadata": {},
   "outputs": [
    {
     "data": {
      "text/plain": [
       "8"
      ]
     },
     "execution_count": 50,
     "metadata": {},
     "output_type": "execute_result"
    }
   ],
   "source": [
    "audiQ7.windows"
   ]
  },
  {
   "cell_type": "code",
   "execution_count": 52,
   "id": "4a5e012b-30ea-48da-afa7-d87f2b2dc2f9",
   "metadata": {},
   "outputs": [
    {
     "data": {
      "text/plain": [
       "9"
      ]
     },
     "execution_count": 52,
     "metadata": {},
     "output_type": "execute_result"
    }
   ],
   "source": [
    "audiQ7.doors"
   ]
  },
  {
   "cell_type": "code",
   "execution_count": 54,
   "id": "8068a20f-cfa0-4a03-8cf4-7df7dcd9a868",
   "metadata": {},
   "outputs": [
    {
     "name": "stdout",
     "output_type": "stream",
     "text": [
      "Audi support self driving\n"
     ]
    }
   ],
   "source": [
    "audiQ7.selfdriving()"
   ]
  },
  {
   "cell_type": "code",
   "execution_count": null,
   "id": "cc5fc8ae-b211-42a8-a8d7-65382a6889ea",
   "metadata": {},
   "outputs": [],
   "source": []
  },
  {
   "cell_type": "markdown",
   "id": "c57c8015-2135-40fa-a0a8-da9e1cb1f20b",
   "metadata": {},
   "source": [
    "## Magic Method In Class"
   ]
  },
  {
   "cell_type": "code",
   "execution_count": 138,
   "id": "8d220839-f71c-4810-b3f7-bf17afeffdad",
   "metadata": {},
   "outputs": [],
   "source": [
    "## All the class variable are public \n",
    "## Car Blueprint\n",
    "class Car:\n",
    "    def __new__(self, windows, doors, enginetype):\n",
    "        print(\"The object has started initialized\")\n",
    "        return super().__new__(self)\n",
    "        \n",
    "    def __init__(self, windows, doors, enginetype):\n",
    "        self.windows = windows\n",
    "        self.doors = doors\n",
    "        self.enginetype = enginetype\n",
    "        \n",
    "    def __str__(self):\n",
    "        return \"The object has been initialized\"\n",
    "        \n",
    "    def drive(self):\n",
    "        print(\"The Person drive the car\")"
   ]
  },
  {
   "cell_type": "code",
   "execution_count": 140,
   "id": "5343a8a4-6dd4-4813-a11a-198ec4adc612",
   "metadata": {},
   "outputs": [
    {
     "name": "stdout",
     "output_type": "stream",
     "text": [
      "The object has started initialized\n",
      "The object has been initialized\n"
     ]
    }
   ],
   "source": [
    "c = Car(4,5,\"Diesel\")\n",
    "print(c.__str__())"
   ]
  },
  {
   "cell_type": "code",
   "execution_count": 142,
   "id": "c1ae120d-8423-4183-a600-fc973aa2ad83",
   "metadata": {},
   "outputs": [
    {
     "data": {
      "text/plain": [
       "['__class__',\n",
       " '__delattr__',\n",
       " '__dict__',\n",
       " '__dir__',\n",
       " '__doc__',\n",
       " '__eq__',\n",
       " '__format__',\n",
       " '__ge__',\n",
       " '__getattribute__',\n",
       " '__getstate__',\n",
       " '__gt__',\n",
       " '__hash__',\n",
       " '__init__',\n",
       " '__init_subclass__',\n",
       " '__le__',\n",
       " '__lt__',\n",
       " '__module__',\n",
       " '__ne__',\n",
       " '__new__',\n",
       " '__reduce__',\n",
       " '__reduce_ex__',\n",
       " '__repr__',\n",
       " '__setattr__',\n",
       " '__sizeof__',\n",
       " '__str__',\n",
       " '__subclasshook__',\n",
       " '__weakref__',\n",
       " 'doors',\n",
       " 'drive',\n",
       " 'enginetype',\n",
       " 'windows']"
      ]
     },
     "execution_count": 142,
     "metadata": {},
     "output_type": "execute_result"
    }
   ],
   "source": [
    "dir(c)"
   ]
  },
  {
   "cell_type": "code",
   "execution_count": null,
   "id": "543d9f62-06bf-42b4-8d83-738f646bdf03",
   "metadata": {},
   "outputs": [],
   "source": []
  }
 ],
 "metadata": {
  "kernelspec": {
   "display_name": "Python 3 (ipykernel)",
   "language": "python",
   "name": "python3"
  },
  "language_info": {
   "codemirror_mode": {
    "name": "ipython",
    "version": 3
   },
   "file_extension": ".py",
   "mimetype": "text/x-python",
   "name": "python",
   "nbconvert_exporter": "python",
   "pygments_lexer": "ipython3",
   "version": "3.12.7"
  }
 },
 "nbformat": 4,
 "nbformat_minor": 5
}
