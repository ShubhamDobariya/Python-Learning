{
 "cells": [
  {
   "cell_type": "markdown",
   "id": "6045c821-db94-4dc9-9f5f-3a87f57124ea",
   "metadata": {},
   "source": [
    "## =, copy(), deepcopy()"
   ]
  },
  {
   "cell_type": "code",
   "execution_count": 17,
   "id": "3c4135b9-14cf-4267-8226-5c6156d41a60",
   "metadata": {},
   "outputs": [],
   "source": [
    "## \"=\"\n",
    "lst1 = [1,2,3,4]"
   ]
  },
  {
   "cell_type": "code",
   "execution_count": 18,
   "id": "17d97883-c09b-4f33-b01f-44fd910cefe3",
   "metadata": {},
   "outputs": [],
   "source": [
    "lst2 = lst1 ## both the variable ref same memory location"
   ]
  },
  {
   "cell_type": "code",
   "execution_count": 19,
   "id": "539765be-8950-44f0-9a81-12f566b95f6f",
   "metadata": {},
   "outputs": [
    {
     "data": {
      "text/plain": [
       "[1, 2, 3, 4]"
      ]
     },
     "execution_count": 19,
     "metadata": {},
     "output_type": "execute_result"
    }
   ],
   "source": [
    "lst1"
   ]
  },
  {
   "cell_type": "code",
   "execution_count": 20,
   "id": "1f166d02-8813-427c-ba97-6df73556568f",
   "metadata": {},
   "outputs": [
    {
     "data": {
      "text/plain": [
       "[1, 2, 3, 4]"
      ]
     },
     "execution_count": 20,
     "metadata": {},
     "output_type": "execute_result"
    }
   ],
   "source": [
    "lst2"
   ]
  },
  {
   "cell_type": "code",
   "execution_count": 21,
   "id": "a2920bc9-7b31-4bab-8be1-df1edaa77630",
   "metadata": {},
   "outputs": [
    {
     "data": {
      "text/plain": [
       "True"
      ]
     },
     "execution_count": 21,
     "metadata": {},
     "output_type": "execute_result"
    }
   ],
   "source": [
    "lst1 is lst2"
   ]
  },
  {
   "cell_type": "code",
   "execution_count": 22,
   "id": "49c7dabe-cd2f-483a-afa7-7f4020fc7ba3",
   "metadata": {},
   "outputs": [],
   "source": [
    "lst1[1] = 100"
   ]
  },
  {
   "cell_type": "code",
   "execution_count": 23,
   "id": "3db7ed56-fb0b-483f-a118-89edce40d879",
   "metadata": {},
   "outputs": [
    {
     "data": {
      "text/plain": [
       "[1, 100, 3, 4]"
      ]
     },
     "execution_count": 23,
     "metadata": {},
     "output_type": "execute_result"
    }
   ],
   "source": [
    "lst1"
   ]
  },
  {
   "cell_type": "code",
   "execution_count": 24,
   "id": "c3383c52-9a44-4723-80ba-ff660091f28c",
   "metadata": {},
   "outputs": [
    {
     "data": {
      "text/plain": [
       "[1, 100, 3, 4]"
      ]
     },
     "execution_count": 24,
     "metadata": {},
     "output_type": "execute_result"
    }
   ],
   "source": [
    "lst2"
   ]
  },
  {
   "cell_type": "code",
   "execution_count": null,
   "id": "eafab96f-47b9-4bdd-8491-daec7d3ab687",
   "metadata": {},
   "outputs": [],
   "source": []
  },
  {
   "cell_type": "code",
   "execution_count": 32,
   "id": "d172139a-1bd2-44d6-932e-5543f0043e15",
   "metadata": {},
   "outputs": [],
   "source": [
    "## copy\n",
    "## Shallow copy\n",
    "lst3 = [5,6,7,8]"
   ]
  },
  {
   "cell_type": "code",
   "execution_count": 33,
   "id": "ab511d59-58d5-41a7-a011-1cae0bfb15a0",
   "metadata": {},
   "outputs": [],
   "source": [
    "lst4 = lst3.copy()"
   ]
  },
  {
   "cell_type": "code",
   "execution_count": 34,
   "id": "ae7ba2d6-d82c-4dbf-ac8f-f1bdf15af14a",
   "metadata": {},
   "outputs": [
    {
     "data": {
      "text/plain": [
       "([5, 6, 7, 8], [5, 6, 7, 8])"
      ]
     },
     "execution_count": 34,
     "metadata": {},
     "output_type": "execute_result"
    }
   ],
   "source": [
    "lst3, lst4"
   ]
  },
  {
   "cell_type": "code",
   "execution_count": 35,
   "id": "8e383116-1c5d-4cec-ba57-6e9182e11123",
   "metadata": {},
   "outputs": [
    {
     "data": {
      "text/plain": [
       "False"
      ]
     },
     "execution_count": 35,
     "metadata": {},
     "output_type": "execute_result"
    }
   ],
   "source": [
    "lst3 is lst4"
   ]
  },
  {
   "cell_type": "code",
   "execution_count": 36,
   "id": "d7a84b31-49d7-4b5a-9ad5-fd7fcfb5f0c5",
   "metadata": {},
   "outputs": [],
   "source": [
    "lst3[1] = 1000"
   ]
  },
  {
   "cell_type": "code",
   "execution_count": 39,
   "id": "74291cbc-b782-4012-9b6d-4e22443dc7f7",
   "metadata": {},
   "outputs": [
    {
     "data": {
      "text/plain": [
       "([5, 1000, 7, 8], [5, 6, 7, 8])"
      ]
     },
     "execution_count": 39,
     "metadata": {},
     "output_type": "execute_result"
    }
   ],
   "source": [
    "lst3,lst4"
   ]
  },
  {
   "cell_type": "code",
   "execution_count": 51,
   "id": "977d4f6c-c8f1-425f-b758-cbd829c7d9ba",
   "metadata": {},
   "outputs": [],
   "source": [
    "## Shallow copy nested list\n",
    "list1 = [[1,2,3,4],[5,6,7,8]]"
   ]
  },
  {
   "cell_type": "code",
   "execution_count": 52,
   "id": "223fa152-0ac8-4108-8e55-b7ceb1b1e00a",
   "metadata": {},
   "outputs": [],
   "source": [
    "list2 = list1.copy() ## it is ref to the same object inside the nested list"
   ]
  },
  {
   "cell_type": "code",
   "execution_count": 53,
   "id": "02f3d56d-10ab-4ed5-a30f-b93bfa5d0501",
   "metadata": {},
   "outputs": [
    {
     "data": {
      "text/plain": [
       "[[1, 2, 3, 4], [5, 6, 7, 8]]"
      ]
     },
     "execution_count": 53,
     "metadata": {},
     "output_type": "execute_result"
    }
   ],
   "source": [
    "list1"
   ]
  },
  {
   "cell_type": "code",
   "execution_count": 54,
   "id": "da6c2481-158e-4e99-ad0a-e9f4e890d3d5",
   "metadata": {},
   "outputs": [
    {
     "data": {
      "text/plain": [
       "[[1, 2, 3, 4], [5, 6, 7, 8]]"
      ]
     },
     "execution_count": 54,
     "metadata": {},
     "output_type": "execute_result"
    }
   ],
   "source": [
    "list2"
   ]
  },
  {
   "cell_type": "code",
   "execution_count": 55,
   "id": "561d1988-f2fb-46d2-a585-74fdb912b9a5",
   "metadata": {},
   "outputs": [],
   "source": [
    "list1[0][1] = 20000"
   ]
  },
  {
   "cell_type": "code",
   "execution_count": 56,
   "id": "67bb0f1b-9389-4b18-8b59-71fdfe344c62",
   "metadata": {},
   "outputs": [
    {
     "data": {
      "text/plain": [
       "[[1, 20000, 3, 4], [5, 6, 7, 8]]"
      ]
     },
     "execution_count": 56,
     "metadata": {},
     "output_type": "execute_result"
    }
   ],
   "source": [
    "list1"
   ]
  },
  {
   "cell_type": "code",
   "execution_count": 57,
   "id": "b340ee8c-8aee-4a4f-89e0-90b8d18f1442",
   "metadata": {},
   "outputs": [
    {
     "data": {
      "text/plain": [
       "[[1, 20000, 3, 4], [5, 6, 7, 8]]"
      ]
     },
     "execution_count": 57,
     "metadata": {},
     "output_type": "execute_result"
    }
   ],
   "source": [
    "list2"
   ]
  },
  {
   "cell_type": "code",
   "execution_count": 58,
   "id": "dc2de838-6310-412e-b32c-6bcae92dbe82",
   "metadata": {},
   "outputs": [],
   "source": [
    "list1.append([10,20,30,40])"
   ]
  },
  {
   "cell_type": "code",
   "execution_count": 59,
   "id": "1133073d-a299-4502-9ee7-9383a54e6edd",
   "metadata": {},
   "outputs": [
    {
     "data": {
      "text/plain": [
       "[[1, 20000, 3, 4], [5, 6, 7, 8], [10, 20, 30, 40]]"
      ]
     },
     "execution_count": 59,
     "metadata": {},
     "output_type": "execute_result"
    }
   ],
   "source": [
    "list1"
   ]
  },
  {
   "cell_type": "code",
   "execution_count": 60,
   "id": "68f750d8-63a0-4bbd-8161-427b40bf04dc",
   "metadata": {},
   "outputs": [
    {
     "data": {
      "text/plain": [
       "[[1, 20000, 3, 4], [5, 6, 7, 8]]"
      ]
     },
     "execution_count": 60,
     "metadata": {},
     "output_type": "execute_result"
    }
   ],
   "source": [
    "list2"
   ]
  },
  {
   "cell_type": "code",
   "execution_count": null,
   "id": "3e87aff3-538d-46a1-94c6-021f272b816a",
   "metadata": {},
   "outputs": [],
   "source": []
  },
  {
   "cell_type": "code",
   "execution_count": 78,
   "id": "803df235-b3ad-4cd2-8b5d-3b55506ecc21",
   "metadata": {},
   "outputs": [],
   "source": [
    "## deepcopy"
   ]
  },
  {
   "cell_type": "code",
   "execution_count": 79,
   "id": "b2f83f59-b704-4af6-a38b-60bc30d26c86",
   "metadata": {},
   "outputs": [],
   "source": [
    "import copy"
   ]
  },
  {
   "cell_type": "code",
   "execution_count": 80,
   "id": "62260bc3-5243-433f-bb02-2fbf0e5e1347",
   "metadata": {},
   "outputs": [],
   "source": [
    "lists1 = [1,2,3,4]"
   ]
  },
  {
   "cell_type": "code",
   "execution_count": 81,
   "id": "d726ed59-92d6-42d5-9146-2a2058665f6c",
   "metadata": {},
   "outputs": [],
   "source": [
    "lists2 = copy.deepcopy(lists1)"
   ]
  },
  {
   "cell_type": "code",
   "execution_count": 82,
   "id": "eeaa1949-1e78-4ad5-8edf-1f4627b1463a",
   "metadata": {},
   "outputs": [
    {
     "data": {
      "text/plain": [
       "[1, 2, 3, 4]"
      ]
     },
     "execution_count": 82,
     "metadata": {},
     "output_type": "execute_result"
    }
   ],
   "source": [
    "lists1"
   ]
  },
  {
   "cell_type": "code",
   "execution_count": 83,
   "id": "981d2f8c-6b5f-4b73-af6f-3223570ded85",
   "metadata": {},
   "outputs": [
    {
     "data": {
      "text/plain": [
       "[1, 2, 3, 4]"
      ]
     },
     "execution_count": 83,
     "metadata": {},
     "output_type": "execute_result"
    }
   ],
   "source": [
    "lists2"
   ]
  },
  {
   "cell_type": "code",
   "execution_count": 84,
   "id": "b698e9e1-c122-4cf3-bd8e-a7041d3573bf",
   "metadata": {},
   "outputs": [],
   "source": [
    "lists1[1] = 1000000"
   ]
  },
  {
   "cell_type": "code",
   "execution_count": 85,
   "id": "08e73240-8038-4b37-8f6d-f718c1da64b3",
   "metadata": {},
   "outputs": [
    {
     "data": {
      "text/plain": [
       "[[1, 20000, 3, 4], [5, 6, 7, 8], [10, 20, 30, 40]]"
      ]
     },
     "execution_count": 85,
     "metadata": {},
     "output_type": "execute_result"
    }
   ],
   "source": [
    "list1"
   ]
  },
  {
   "cell_type": "code",
   "execution_count": 86,
   "id": "ac5df6c2-6910-4187-ae20-e5a68e80b428",
   "metadata": {},
   "outputs": [
    {
     "data": {
      "text/plain": [
       "[1, 2, 3, 4]"
      ]
     },
     "execution_count": 86,
     "metadata": {},
     "output_type": "execute_result"
    }
   ],
   "source": [
    "lists2 ## it's work like shallow copy when I have single dimensional list"
   ]
  },
  {
   "cell_type": "code",
   "execution_count": 95,
   "id": "11f7b2e4-84b3-4dde-821c-87ee099f30cf",
   "metadata": {},
   "outputs": [],
   "source": [
    "## In this case, shallow copy is not equeal to deppcopy\n",
    "a = [[1,2,3],[4,5,6],[7,8,9]]"
   ]
  },
  {
   "cell_type": "code",
   "execution_count": 96,
   "id": "86ccd778-6597-494d-837e-5d43c7be2a3c",
   "metadata": {},
   "outputs": [],
   "source": [
    "b = copy.deepcopy(a)"
   ]
  },
  {
   "cell_type": "code",
   "execution_count": 97,
   "id": "44712069-8dca-46e7-a446-bbe86ea6671e",
   "metadata": {},
   "outputs": [
    {
     "data": {
      "text/plain": [
       "[[1, 2, 3], [4, 5, 6], [7, 8, 9]]"
      ]
     },
     "execution_count": 97,
     "metadata": {},
     "output_type": "execute_result"
    }
   ],
   "source": [
    "a"
   ]
  },
  {
   "cell_type": "code",
   "execution_count": 98,
   "id": "007412b5-d904-4ff8-b81b-de0cfd0a8cf3",
   "metadata": {},
   "outputs": [
    {
     "data": {
      "text/plain": [
       "[[1, 2, 3], [4, 5, 6], [7, 8, 9]]"
      ]
     },
     "execution_count": 98,
     "metadata": {},
     "output_type": "execute_result"
    }
   ],
   "source": [
    "b"
   ]
  },
  {
   "cell_type": "code",
   "execution_count": 99,
   "id": "9630038c-551e-4077-a38a-ad8642e3661d",
   "metadata": {},
   "outputs": [],
   "source": [
    "a[0][2] = 200000"
   ]
  },
  {
   "cell_type": "code",
   "execution_count": 100,
   "id": "736f3bcd-2aa9-4bbd-aaa6-863e9929013c",
   "metadata": {},
   "outputs": [
    {
     "data": {
      "text/plain": [
       "[[1, 2, 200000], [4, 5, 6], [7, 8, 9]]"
      ]
     },
     "execution_count": 100,
     "metadata": {},
     "output_type": "execute_result"
    }
   ],
   "source": [
    "a"
   ]
  },
  {
   "cell_type": "code",
   "execution_count": 101,
   "id": "07569254-acf4-42e5-bd5b-854b130ce25c",
   "metadata": {},
   "outputs": [
    {
     "data": {
      "text/plain": [
       "[[1, 2, 3], [4, 5, 6], [7, 8, 9]]"
      ]
     },
     "execution_count": 101,
     "metadata": {},
     "output_type": "execute_result"
    }
   ],
   "source": [
    "b"
   ]
  },
  {
   "cell_type": "code",
   "execution_count": null,
   "id": "e2cb6c79-a93e-4dd4-8258-32d33915ed3d",
   "metadata": {},
   "outputs": [],
   "source": []
  }
 ],
 "metadata": {
  "kernelspec": {
   "display_name": "Python 3 (ipykernel)",
   "language": "python",
   "name": "python3"
  },
  "language_info": {
   "codemirror_mode": {
    "name": "ipython",
    "version": 3
   },
   "file_extension": ".py",
   "mimetype": "text/x-python",
   "name": "python",
   "nbconvert_exporter": "python",
   "pygments_lexer": "ipython3",
   "version": "3.12.7"
  }
 },
 "nbformat": 4,
 "nbformat_minor": 5
}
